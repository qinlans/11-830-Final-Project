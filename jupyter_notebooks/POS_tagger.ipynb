{
 "cells": [
  {
   "cell_type": "code",
   "execution_count": 1,
   "metadata": {
    "collapsed": true
   },
   "outputs": [],
   "source": [
    "%load_ext autoreload\n",
    "%autoreload 2"
   ]
  },
  {
   "cell_type": "code",
   "execution_count": 2,
   "metadata": {
    "scrolled": true
   },
   "outputs": [
    {
     "data": {
      "application/vnd.jupyter.widget-view+json": {
       "model_id": "2fddca6a74ef409eb902fca91bd9e32e",
       "version_major": 2,
       "version_minor": 0
      },
      "text/plain": [
       "A Jupyter Widget"
      ]
     },
     "metadata": {},
     "output_type": "display_data"
    }
   ],
   "source": [
    "import pandas as pd\n",
    "import numpy as np\n",
    "from collections import Counter\n",
    "from nltk import word_tokenize, pos_tag\n",
    "from tqdm import tqdm, tqdm_notebook"
   ]
  },
  {
   "cell_type": "markdown",
   "metadata": {},
   "source": [
    "### Load data"
   ]
  },
  {
   "cell_type": "code",
   "execution_count": 3,
   "metadata": {
    "collapsed": true
   },
   "outputs": [],
   "source": [
    "path = '../data/'\n",
    "# fname = '{}hatebase_slurs.txt'.format(path)\n",
    "fname = '{}hatebase+zeerak_exclude_slurs.txt'.format(path)\n",
    "slurs = pd.read_csv(fname, header=None)[0].values"
   ]
  },
  {
   "cell_type": "code",
   "execution_count": null,
   "metadata": {
    "collapsed": true,
    "scrolled": true
   },
   "outputs": [],
   "source": [
    "# path = 'data/davidson/'\n",
    "path = '../data/zeerak_naacl/'\n",
    "debug = pd.read_csv('{}debug.csv'.format(path), encoding='utf-8')\n",
    "train = pd.read_csv('{}train.csv'.format(path), encoding='utf-8')\n",
    "dev = pd.read_csv('{}dev.csv'.format(path), encoding='utf-8')\n",
    "test = pd.read_csv('{}test.csv'.format(path), encoding='utf-8')"
   ]
  },
  {
   "cell_type": "code",
   "execution_count": null,
   "metadata": {
    "collapsed": true
   },
   "outputs": [],
   "source": [
    "def safe_join(word_list):\n",
    "    joined = ''\n",
    "    last_word = None\n",
    "    for i, w in enumerate(word_list):\n",
    "        if last_word == '<' or w == '>' or i == 0:\n",
    "            joined += w\n",
    "        else:\n",
    "            joined += ' ' + w\n",
    "        last_word = w\n",
    "    return joined\n",
    "\n",
    "def pos_replace(tweet):\n",
    "    \"\"\"Repalce slurs with their POS tags if they are slurs.\"\"\"\n",
    "    tokenized_tweet = word_tokenize(tweet)\n",
    "    pos_tweet = pos_tag(tokenized_tweet)\n",
    "    pos_replaced = [t if t not in slurs else pos for (t, pos) in pos_tweet]\n",
    "    return safe_join(pos_replaced)"
   ]
  },
  {
   "cell_type": "code",
   "execution_count": null,
   "metadata": {
    "collapsed": true,
    "scrolled": true
   },
   "outputs": [],
   "source": [
    "all_datasets = {'train': train, 'test': test, 'dev': dev}\n",
    "for k, d in all_datasets.items():\n",
    "    tqdm.write('Processing {}, length: {}'.format(k, len(d)))\n",
    "    tweets = d['tweet'].values\n",
    "    for i, t in enumerate(tqdm_notebook(tweets)):\n",
    "        tweets[i] = pos_replace(t)\n",
    "    d['tweet'] = tweets"
   ]
  },
  {
   "cell_type": "code",
   "execution_count": null,
   "metadata": {
    "collapsed": true
   },
   "outputs": [],
   "source": [
    "train.to_csv('{}train_POS.csv'.format(path), index=None, encoding='utf-8')\n",
    "dev.to_csv('{}dev_POS.csv'.format(path), index=None, encoding='utf-8')\n",
    "test.to_csv('{}test_POS.csv'.format(path), index=None, encoding='utf-8')"
   ]
  },
  {
   "cell_type": "code",
   "execution_count": null,
   "metadata": {
    "collapsed": true
   },
   "outputs": [],
   "source": []
  }
 ],
 "metadata": {
  "kernelspec": {
   "display_name": "Python 3",
   "language": "python",
   "name": "python3"
  },
  "language_info": {
   "codemirror_mode": {
    "name": "ipython",
    "version": 3
   },
   "file_extension": ".py",
   "mimetype": "text/x-python",
   "name": "python",
   "nbconvert_exporter": "python",
   "pygments_lexer": "ipython3",
   "version": "3.6.3"
  }
 },
 "nbformat": 4,
 "nbformat_minor": 2
}
