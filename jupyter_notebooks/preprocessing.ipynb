{
 "cells": [
  {
   "cell_type": "code",
   "execution_count": null,
   "metadata": {
    "collapsed": true
   },
   "outputs": [],
   "source": [
    "%load_ext autoreload\n",
    "%autoreload 2"
   ]
  },
  {
   "cell_type": "code",
   "execution_count": null,
   "metadata": {
    "collapsed": true,
    "scrolled": true
   },
   "outputs": [],
   "source": [
    "import pandas as pd\n",
    "import numpy as np\n",
    "from collections import Counter\n",
    "from tqdm import tqdm, tqdm_notebook\n",
    "\n",
    "# Local imports\n",
    "from preprocessing import clean_tweets, one_hot_encode, make_debug_df"
   ]
  },
  {
   "cell_type": "markdown",
   "metadata": {},
   "source": [
    "### First load and clean the hatebase terms"
   ]
  },
  {
   "cell_type": "code",
   "execution_count": null,
   "metadata": {
    "collapsed": true,
    "scrolled": true
   },
   "outputs": [],
   "source": [
    "# Clean the hatebase slurs\n",
    "def clean_slurs(text):\n",
    "    \"\"\"Lowercase and underscore join slur words.\"\"\"\n",
    "    return text.strip().lower().replace(' ', '_')\n",
    "\n",
    "slurs = pd.read_csv('../data/original_hatebase_slurs.txt', header=None)\n",
    "\n",
    "# Clean slurs\n",
    "slur_list = [*map(lambda s: s.lower(), slurs[0].values)]\n",
    "cleaned_slurs = [*map(clean_slurs, slur_list)]\n",
    "pluralize_slurs = [s + end for s in cleaned_slurs for end in ['s', 'es']]\n",
    "full_slur_list = sorted(pluralize_slurs + cleaned_slurs)\n",
    "\n",
    "# Outputs\n",
    "slur_map = {s: cs for s, cs in zip(slur_list, cleaned_slurs) if s != cs}\n",
    "#out_slurs = pd.DataFrame(full_slur_list)\n",
    "#out_slurs.to_csv('data/hatebase_slurs.txt', index=None, header=None, encoding='utf-8')"
   ]
  },
  {
   "cell_type": "code",
   "execution_count": null,
   "metadata": {
    "collapsed": true
   },
   "outputs": [],
   "source": [
    "def clean_slurs_in_context(text):\n",
    "    \"\"\"Replace slurs with their cleaned versions.\"\"\"\n",
    "    for k, v in slur_map.items():\n",
    "        text = text.replace(k, v)\n",
    "    return text\n",
    "\n",
    "def extract_slurs(text):\n",
    "    \"\"\"Get a list of all slurs used in the text.\"\"\"\n",
    "    text = text.split(' ')\n",
    "    all_slurs = []\n",
    "    for s in full_slur_list:\n",
    "        if s in text:\n",
    "            all_slurs += [s]\n",
    "    return all_slurs"
   ]
  },
  {
   "cell_type": "markdown",
   "metadata": {},
   "source": [
    "### Davidson et al data"
   ]
  },
  {
   "cell_type": "code",
   "execution_count": null,
   "metadata": {
    "collapsed": true
   },
   "outputs": [],
   "source": [
    "path = '../data/davidson/'\n",
    "fname = '{}labeled_data.csv'.format(path)"
   ]
  },
  {
   "cell_type": "code",
   "execution_count": null,
   "metadata": {
    "collapsed": true
   },
   "outputs": [],
   "source": [
    "# Load the data\n",
    "df = pd.read_csv(fname, encoding='utf-8', index_col='Unnamed: 0').sample(frac=1)\n",
    "label_map = {0: 'hate_speech', 1: 'offensive_language', 2: 'neither'}"
   ]
  },
  {
   "cell_type": "code",
   "execution_count": null,
   "metadata": {
    "collapsed": true
   },
   "outputs": [],
   "source": [
    "# Clean the tweets\n",
    "df = clean_tweets(df)\n",
    "\n",
    "# Convert columns to one hot encoding\n",
    "df[['hate_speech', 'offensive_language', 'neither']] = \\\n",
    "    one_hot_encode(df['class'])\n",
    "df['label'] =df['class'].apply(lambda c: label_map[c])\n",
    "    \n",
    "# Clean hate speech terms, and extract slurs\n",
    "df['tweet'] = df['tweet'].apply(clean_slurs_in_context)\n",
    "df['slurs'] = df['tweet'].apply(extract_slurs)\n",
    "    \n",
    "# Re-order the DataFrame, and drop some columns\n",
    "df = df[['tweet', 'label', 'mentions', 'hashtags', 'slurs', 'original_tweet',\n",
    "         'hate_speech', 'offensive_language', 'neither']]"
   ]
  },
  {
   "cell_type": "code",
   "execution_count": null,
   "metadata": {
    "collapsed": true,
    "scrolled": true
   },
   "outputs": [],
   "source": [
    "# Make a test/dev/train split\n",
    "train_perc = 0.80\n",
    "msk = np.random.rand(len(df)) < train_perc\n",
    "train = df[msk]\n",
    "not_train = df[~msk]\n",
    "half = int(len(not_train) / 2)\n",
    "dev = not_train[:half]\n",
    "test = not_train[half:]\n",
    "\n",
    "train.reset_index(drop=True, inplace=True)\n",
    "test.reset_index(drop=True, inplace=True)"
   ]
  },
  {
   "cell_type": "code",
   "execution_count": null,
   "metadata": {
    "collapsed": true,
    "scrolled": true
   },
   "outputs": [],
   "source": [
    "debug = make_debug_df(df)"
   ]
  },
  {
   "cell_type": "code",
   "execution_count": null,
   "metadata": {
    "collapsed": true,
    "scrolled": true
   },
   "outputs": [],
   "source": [
    "debug.to_csv('{}debug.csv'.format(path), index=False, encoding='utf-8')\n",
    "train.to_csv('{}train.csv'.format(path), index=False, encoding='utf-8')\n",
    "dev.to_csv('{}dev.csv'.format(path), index=False, encoding='utf-8')\n",
    "test.to_csv('{}test.csv'.format(path), index=False, encoding='utf-8')"
   ]
  },
  {
   "cell_type": "markdown",
   "metadata": {
    "collapsed": true
   },
   "source": [
    "### Zeerak data"
   ]
  },
  {
   "cell_type": "code",
   "execution_count": null,
   "metadata": {
    "collapsed": true
   },
   "outputs": [],
   "source": [
    "path = '../data/zeerak_naacl/'\n",
    "fname = '{}zeerak_naacl_tweets.csv'.format(path)\n",
    "# Load the data\n",
    "df2 = pd.read_csv(fname, encoding='utf-8').sample(frac=1)"
   ]
  },
  {
   "cell_type": "code",
   "execution_count": null,
   "metadata": {
    "collapsed": true
   },
   "outputs": [],
   "source": [
    "# First mask out some missing data\n",
    "msk = ~ df2['label'].apply(lambda t: type(t) is float)\n",
    "df2 = df2[msk]"
   ]
  },
  {
   "cell_type": "code",
   "execution_count": null,
   "metadata": {
    "collapsed": true,
    "scrolled": true
   },
   "outputs": [],
   "source": [
    "# Clean the tweets\n",
    "df2.rename(index=str, columns={'text': 'tweet'}, inplace=True)\n",
    "df2 = clean_tweets(df2)\n",
    "\n",
    "# Label cleanup to match the other df format\n",
    "labels = ['racism', 'sexism', 'none']\n",
    "one_hot_label = [labels.index(l) for l in df2['label']]\n",
    "for l in labels:\n",
    "    df2[l] = -1\n",
    "\n",
    "# Convert columns to one hot encoding\n",
    "df2[['racism', 'sexism', 'none']] = \\\n",
    "    one_hot_encode(one_hot_label)\n",
    "    \n",
    "# Clean hate speech terms, and extract slurs\n",
    "df2['tweet'] = df2['tweet'].apply(clean_slurs_in_context)\n",
    "df2['slurs'] = df2['tweet'].apply(extract_slurs)\n",
    "    \n",
    "# Re-order the DataFrame, and drop some columns\n",
    "df2 = df2[['tweet', 'label', 'mentions', 'hashtags', 'slurs', 'original_tweet',\n",
    "           'racism', 'sexism', 'none', 'tweet_id', 'user_screen_name']]"
   ]
  },
  {
   "cell_type": "code",
   "execution_count": null,
   "metadata": {
    "collapsed": true
   },
   "outputs": [],
   "source": [
    "# Make a test/dev/train split\n",
    "train_perc = 0.80\n",
    "msk = np.random.rand(len(df2)) < train_perc\n",
    "train = df2[msk]\n",
    "not_train = df2[~msk]\n",
    "half = int(len(not_train) / 2)\n",
    "dev = not_train[:half]\n",
    "test = not_train[half:]\n",
    "\n",
    "train.reset_index(drop=True, inplace=True)\n",
    "test.reset_index(drop=True, inplace=True)"
   ]
  },
  {
   "cell_type": "code",
   "execution_count": null,
   "metadata": {
    "collapsed": true,
    "scrolled": true
   },
   "outputs": [],
   "source": [
    "debug = make_debug_df(df2, cols=labels)"
   ]
  },
  {
   "cell_type": "code",
   "execution_count": null,
   "metadata": {
    "collapsed": true
   },
   "outputs": [],
   "source": [
    "debug.to_csv('{}debug.csv'.format(path), index=False, encoding='utf-8')\n",
    "train.to_csv('{}train.csv'.format(path), index=False, encoding='utf-8')\n",
    "dev.to_csv('{}dev.csv'.format(path), index=False, encoding='utf-8')\n",
    "test.to_csv('{}test.csv'.format(path), index=False, encoding='utf-8')"
   ]
  },
  {
   "cell_type": "markdown",
   "metadata": {},
   "source": [
    "### Wiki talk data"
   ]
  },
  {
   "cell_type": "code",
   "execution_count": null,
   "metadata": {
    "collapsed": true
   },
   "outputs": [],
   "source": [
    "path = '../data/wiki_talk/'\n",
    "fname = '{}labeled_data.csv'.format(path)"
   ]
  },
  {
   "cell_type": "code",
   "execution_count": null,
   "metadata": {
    "collapsed": true
   },
   "outputs": [],
   "source": [
    "# Load the data\n",
    "df3 = pd.read_csv(fname, encoding='utf-8')# , index_col='Unnamed: 0').sample(frac=1)"
   ]
  },
  {
   "cell_type": "code",
   "execution_count": null,
   "metadata": {
    "collapsed": true
   },
   "outputs": [],
   "source": [
    "i_to_label = {0: 'toxic', 1: 'severe_toxic', 2: 'obscene', 3: 'threat',\n",
    "              4: 'insult', 5: 'identity_hate'}\n",
    "def one_hot_to_label(row):\n",
    "    \"\"\"Convert a one-hot vector to labels.\"\"\"\n",
    "    l = 'none'\n",
    "    for i, v in enumerate(row):\n",
    "        if v == 1:\n",
    "            l = i_to_label[i]\n",
    "    return l"
   ]
  },
  {
   "cell_type": "code",
   "execution_count": null,
   "metadata": {},
   "outputs": [],
   "source": [
    "# Clean the tweets\n",
    "print('Cleaning...')\n",
    "df3.rename(index=str, columns={'comment_text': 'tweet'}, inplace=True)\n",
    "df3 = clean_tweets(df3)\n",
    "\n",
    "# Label cleanup to match the other df format\n",
    "print('Fixing Labels...')\n",
    "labels = ['toxic', 'severe_toxic', 'obscene', 'threat', 'insult', 'identity_hate']\n",
    "df3['label'] = df3[labels].apply(one_hot_to_label, axis=1)\n",
    "df3['none'] = [*map(int, df3['label'] == 'none')]\n",
    "    \n",
    "# Clean hate speech terms, and extract slurs\n",
    "print('Extracting Slurs...')\n",
    "df3['tweet'] = df3['tweet'].apply(clean_slurs_in_context)\n",
    "df3['slurs'] = df3['tweet'].apply(extract_slurs)\n",
    "\n",
    "# Re-order the DataFrame, and drop some columns\n",
    "df3 = df3[['tweet', 'label', 'mentions', 'hashtags', 'slurs', 'original_tweet'] +\n",
    "           labels + ['none', 'id']]"
   ]
  },
  {
   "cell_type": "code",
   "execution_count": null,
   "metadata": {
    "collapsed": true
   },
   "outputs": [],
   "source": [
    "# Make a test/dev/train split\n",
    "train_perc = 0.80\n",
    "msk = np.random.rand(len(df3)) < train_perc\n",
    "train = df3[msk]\n",
    "not_train = df3[~msk]\n",
    "half = int(len(not_train) / 2)\n",
    "dev = not_train[:half]\n",
    "test = not_train[half:]\n",
    "\n",
    "train.reset_index(drop=True, inplace=True)\n",
    "test.reset_index(drop=True, inplace=True)\n",
    "dev.reset_index(drop=True, inplace=True)"
   ]
  },
  {
   "cell_type": "code",
   "execution_count": null,
   "metadata": {
    "collapsed": true
   },
   "outputs": [],
   "source": [
    "train.to_csv('{}train.csv'.format(path), index=False, encoding='utf-8')\n",
    "dev.to_csv('{}dev.csv'.format(path), index=False, encoding='utf-8')\n",
    "test.to_csv('{}test.csv'.format(path), index=False, encoding='utf-8')"
   ]
  },
  {
   "cell_type": "code",
   "execution_count": null,
   "metadata": {
    "collapsed": true
   },
   "outputs": [],
   "source": []
  },
  {
   "cell_type": "code",
   "execution_count": null,
   "metadata": {
    "collapsed": true
   },
   "outputs": [],
   "source": []
  },
  {
   "cell_type": "code",
   "execution_count": null,
   "metadata": {
    "scrolled": false
   },
   "outputs": [],
   "source": [
    "# Print out some examples\n",
    "labels = ['toxic', 'severe_toxic', 'obscene', 'threat', 'insult', 'identity_hate']\n",
    "\n",
    "neutral_msk = np.array([True]*len(df))\n",
    "for l in labels:\n",
    "    neutral_msk = neutral_msk & ~np.array([*map(bool, df[l])])\n",
    "msk2 = [len(text) < 60 for text in df['comment_text']]\n",
    "\n",
    "# Print total\n",
    "print(\"Total comments: {}\".format(len(df)))\n",
    "\n",
    "# Print neutral\n",
    "print(\"Neutral comments: {}\".format(sum(neutral_msk)))\n",
    "msk = [m1 and m2 for m1, m2 in zip(neutral_msk, msk2)]\n",
    "for ex in df[msk]['comment_text'].sample(5):\n",
    "    print('\\t', ex.replace('\\n', ' '))\n",
    "\n",
    "for l in labels:\n",
    "    print(\"{} comments: {}\".format(l.title(), sum(df[l])))\n",
    "    msk1 = [*map(bool, df[l])]\n",
    "    msk = [m1 and m2 for m1, m2 in zip(msk1, msk2)]\n",
    "    for ex in df[msk]['comment_text'].sample(5):\n",
    "        print('\\t', ex.replace('\\n', ' '))"
   ]
  },
  {
   "cell_type": "markdown",
   "metadata": {
    "collapsed": true
   },
   "source": [
    "### Looking at number of hatebase terms in our data"
   ]
  },
  {
   "cell_type": "code",
   "execution_count": null,
   "metadata": {
    "scrolled": true
   },
   "outputs": [],
   "source": [
    "Counter([b for a in df3['slurs'] for b in a]).most_common()"
   ]
  },
  {
   "cell_type": "code",
   "execution_count": null,
   "metadata": {
    "scrolled": true
   },
   "outputs": [],
   "source": [
    "sum(Counter([b for a in df3['slurs'] for b in a]).values())"
   ]
  },
  {
   "cell_type": "code",
   "execution_count": null,
   "metadata": {
    "collapsed": true
   },
   "outputs": [],
   "source": [
    "Counter([b for a in df['slurs'] for b in a]).most_common()"
   ]
  },
  {
   "cell_type": "code",
   "execution_count": null,
   "metadata": {
    "collapsed": true
   },
   "outputs": [],
   "source": []
  }
 ],
 "metadata": {
  "kernelspec": {
   "display_name": "Python 3",
   "language": "python",
   "name": "python3"
  },
  "language_info": {
   "codemirror_mode": {
    "name": "ipython",
    "version": 3
   },
   "file_extension": ".py",
   "mimetype": "text/x-python",
   "name": "python",
   "nbconvert_exporter": "python",
   "pygments_lexer": "ipython3",
   "version": "3.6.3"
  }
 },
 "nbformat": 4,
 "nbformat_minor": 2
}
